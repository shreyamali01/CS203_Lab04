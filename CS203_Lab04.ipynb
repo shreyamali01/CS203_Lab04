{
  "nbformat": 4,
  "nbformat_minor": 0,
  "metadata": {
    "colab": {
      "provenance": [],
      "authorship_tag": "ABX9TyOwxObY/F+X+mB76bkuq8tI",
      "include_colab_link": true
    },
    "kernelspec": {
      "name": "python3",
      "display_name": "Python 3"
    },
    "language_info": {
      "name": "python"
    }
  },
  "cells": [
    {
      "cell_type": "markdown",
      "metadata": {
        "id": "view-in-github",
        "colab_type": "text"
      },
      "source": [
        "<a href=\"https://colab.research.google.com/github/shreyamali01/CS203_Lab04/blob/main/CS203_Lab04.ipynb\" target=\"_parent\"><img src=\"https://colab.research.google.com/assets/colab-badge.svg\" alt=\"Open In Colab\"/></a>"
      ]
    },
    {
      "cell_type": "markdown",
      "source": [
        "#**Assignment 4**\n",
        "<br>\n",
        "Team 01 Submission\n",
        "<br>\n",
        "<br>\n",
        "Team Member 1 <br>\n",
        "Shreya Mali <br>\n",
        "22110135\n",
        "<br>\n",
        "<br>\n",
        "Team Member 2 <br>\n",
        "Vaibhav Lawange<br>\n",
        "23310055 <br>"
      ],
      "metadata": {
        "id": "ZOCdIF1ah65q"
      }
    },
    {
      "cell_type": "markdown",
      "source": [
        "###**Task 1 : Setup the Dataset**"
      ],
      "metadata": {
        "id": "QIQzXiaJJqR_"
      }
    },
    {
      "cell_type": "markdown",
      "source": [
        "Installing Required Libraries"
      ],
      "metadata": {
        "id": "W4Km4tJdKHPk"
      }
    },
    {
      "cell_type": "code",
      "execution_count": null,
      "metadata": {
        "id": "Ucvn2w1yIlPa"
      },
      "outputs": [],
      "source": [
        "#datasets for loading MNIST from Hugging Face\n",
        "#numpy for array manipulation\n",
        "#sklearn for data splitting\n",
        "!pip install -q datasets numpy scikit-learn"
      ]
    },
    {
      "cell_type": "markdown",
      "source": [
        "Loading the MNIST Dataset"
      ],
      "metadata": {
        "id": "MNdHnvn1Miw2"
      }
    },
    {
      "cell_type": "code",
      "source": [
        "from datasets import load_dataset\n",
        "import numpy as np\n",
        "\n",
        "#loading MNIST dataset\n",
        "mnist = load_dataset(\"mnist\")\n",
        "\n",
        "#extracting the images and labels\n",
        "train_data = mnist[\"train\"]\n",
        "test_data = mnist[\"test\"]\n",
        "\n",
        "#converting images to numpy arrays\n",
        "X_train = np.array(train_data[\"image\"])\n",
        "y_train = np.array(train_data[\"label\"])\n",
        "X_test = np.array(test_data[\"image\"])\n",
        "y_test = np.array(test_data[\"label\"])\n",
        "\n",
        "#printing shapes to verify\n",
        "print(\"training set shape:\", X_train.shape, y_train.shape)\n",
        "print(\"testing set shape:\", X_test.shape, y_test.shape)"
      ],
      "metadata": {
        "id": "-Fq0F62ZKNxd",
        "colab": {
          "base_uri": "https://localhost:8080/"
        },
        "outputId": "1f55e268-afe0-4d55-946f-4d1ffcdf9afe"
      },
      "execution_count": null,
      "outputs": [
        {
          "output_type": "stream",
          "name": "stdout",
          "text": [
            "training set shape: (60000, 28, 28) (60000,)\n",
            "testing set shape: (10000, 28, 28) (10000,)\n"
          ]
        }
      ]
    },
    {
      "cell_type": "markdown",
      "source": [
        "Normalizing the Image Data"
      ],
      "metadata": {
        "id": "8toZf7nTO32C"
      }
    },
    {
      "cell_type": "code",
      "source": [
        "#normalizing pixel values in the range [0,1]\n",
        "X_train = X_train.astype(\"float32\") / 255\n",
        "X_test = X_test.astype(\"float32\") / 255"
      ],
      "metadata": {
        "id": "hA_1JBm5OnKn"
      },
      "execution_count": null,
      "outputs": []
    },
    {
      "cell_type": "markdown",
      "source": [
        "Flattening Each Image into a vector of 784 Features\n"
      ],
      "metadata": {
        "id": "YpkwAy0-PRJl"
      }
    },
    {
      "cell_type": "code",
      "source": [
        "X_train = X_train.reshape(X_train.shape[0], -1)\n",
        "X_test = X_test.reshape(X_test.shape[0], -1)\n",
        "\n",
        "print(\"flattened training set shape:\", X_train.shape)\n",
        "print(\"flattened testing set shape:\", X_test.shape)"
      ],
      "metadata": {
        "colab": {
          "base_uri": "https://localhost:8080/"
        },
        "id": "JuxhNapSPO0P",
        "outputId": "3cad09d1-d87f-4725-8dfe-34fb703e9aec"
      },
      "execution_count": null,
      "outputs": [
        {
          "output_type": "stream",
          "name": "stdout",
          "text": [
            "flattened training set shape: (60000, 784)\n",
            "flattened testing set shape: (10000, 784)\n"
          ]
        }
      ]
    },
    {
      "cell_type": "markdown",
      "source": [
        "Dataset into Training and Testing Set"
      ],
      "metadata": {
        "id": "GKA6JbT4PsIJ"
      }
    },
    {
      "cell_type": "code",
      "source": [
        "print(\"final training set shape:\", X_train.shape, y_train.shape)\n",
        "print(\"final testing set shape:\", X_test.shape, y_test.shape)"
      ],
      "metadata": {
        "colab": {
          "base_uri": "https://localhost:8080/"
        },
        "id": "pS85LsAvPm7U",
        "outputId": "2a2a84e4-f215-4a70-c03b-977d5fd24ec1"
      },
      "execution_count": null,
      "outputs": [
        {
          "output_type": "stream",
          "name": "stdout",
          "text": [
            "final training set shape: (60000, 784) (60000,)\n",
            "final testing set shape: (10000, 784) (10000,)\n"
          ]
        }
      ]
    },
    {
      "cell_type": "markdown",
      "source": [
        "Randomly selecting an initially labeled dataset of 200 samples from training samples\n"
      ],
      "metadata": {
        "id": "cKjiwkf7qm-O"
      }
    },
    {
      "cell_type": "code",
      "source": [
        "#selecting a random seed for reproducibility\n",
        "np.random.seed(42)\n",
        "\n",
        "#randomly selecting 200 indices from the training set\n",
        "labeled_indices = np.random.choice(len(X_train), size=200, replace=False)\n",
        "\n",
        "#creating the labeled dataset with 200 samples\n",
        "X_labeled = X_train[labeled_indices]\n",
        "y_labeled = y_train[labeled_indices]\n",
        "\n",
        "#removing the selected 200 samples from the training set to form the unlabeled pool\n",
        "X_unlabeled = np.delete(X_train, labeled_indices, axis=0)\n",
        "y_unlabeled = np.delete(y_train, labeled_indices, axis=0)\n",
        "\n",
        "#checking the shapes of the labeled and unlabeled datasets\n",
        "print(\"labeled dataset shape:\", X_labeled.shape)\n",
        "print(\"unlabeled pool shape:\", X_unlabeled.shape)"
      ],
      "metadata": {
        "colab": {
          "base_uri": "https://localhost:8080/"
        },
        "id": "ibDdnj-CPhSf",
        "outputId": "72d66519-9964-4abe-b015-2455bbd59f9d"
      },
      "execution_count": null,
      "outputs": [
        {
          "output_type": "stream",
          "name": "stdout",
          "text": [
            "labeled dataset shape: (200, 784)\n",
            "unlabeled pool shape: (59800, 784)\n"
          ]
        }
      ]
    },
    {
      "cell_type": "markdown",
      "source": [
        "Creating 3 copies of X_labeled, y_labeled, X_unlabeled, and y_unlabeled for Task 2, Task 3 and Task 4"
      ],
      "metadata": {
        "id": "7fgHbXPUaZtc"
      }
    },
    {
      "cell_type": "code",
      "source": [
        "#copy1\n",
        "X_labeled1 = X_labeled.copy()\n",
        "y_labeled1 = y_labeled.copy()\n",
        "X_unlabeled1 = X_unlabeled.copy()\n",
        "y_unlabeled1 = y_unlabeled.copy()\n",
        "\n",
        "#copy2\n",
        "X_labeled2 = X_labeled.copy()\n",
        "y_labeled2 = y_labeled.copy()\n",
        "X_unlabeled2 = X_unlabeled.copy()\n",
        "y_unlabeled2 = y_unlabeled.copy()\n",
        "\n",
        "#copy3\n",
        "X_labeled3 = X_labeled.copy()\n",
        "y_labeled3 = y_labeled.copy()\n",
        "X_unlabeled3 = X_unlabeled.copy()\n",
        "y_unlabeled3 = y_unlabeled.copy()"
      ],
      "metadata": {
        "id": "3yXq6XPEal5f"
      },
      "execution_count": null,
      "outputs": []
    },
    {
      "cell_type": "markdown",
      "source": [
        "###**Task 2 : Implement Random Sampling for Active Learning**"
      ],
      "metadata": {
        "id": "Y1psqON2sMN7"
      }
    },
    {
      "cell_type": "markdown",
      "source": [
        "Training a Random Forest Classifier on the initial dataset of 200 samples"
      ],
      "metadata": {
        "id": "rX1TeWzNseIB"
      }
    },
    {
      "cell_type": "code",
      "source": [
        "#importing required libraries\n",
        "from sklearn.ensemble import RandomForestClassifier\n",
        "from sklearn.metrics import accuracy_score\n",
        "\n",
        "#initializing Random Forest Classifier\n",
        "rf_classifier1 = RandomForestClassifier(random_state=42)\n",
        "\n",
        "#training the classifier on the initial labeled dataset\n",
        "rf_classifier1.fit(X_labeled1, y_labeled1)"
      ],
      "metadata": {
        "colab": {
          "base_uri": "https://localhost:8080/",
          "height": 80
        },
        "id": "S7ftr5XIrL0e",
        "outputId": "35dfc23d-0215-4eaf-93a3-c52f406bd57a"
      },
      "execution_count": null,
      "outputs": [
        {
          "output_type": "execute_result",
          "data": {
            "text/plain": [
              "RandomForestClassifier(random_state=42)"
            ],
            "text/html": [
              "<style>#sk-container-id-7 {\n",
              "  /* Definition of color scheme common for light and dark mode */\n",
              "  --sklearn-color-text: #000;\n",
              "  --sklearn-color-text-muted: #666;\n",
              "  --sklearn-color-line: gray;\n",
              "  /* Definition of color scheme for unfitted estimators */\n",
              "  --sklearn-color-unfitted-level-0: #fff5e6;\n",
              "  --sklearn-color-unfitted-level-1: #f6e4d2;\n",
              "  --sklearn-color-unfitted-level-2: #ffe0b3;\n",
              "  --sklearn-color-unfitted-level-3: chocolate;\n",
              "  /* Definition of color scheme for fitted estimators */\n",
              "  --sklearn-color-fitted-level-0: #f0f8ff;\n",
              "  --sklearn-color-fitted-level-1: #d4ebff;\n",
              "  --sklearn-color-fitted-level-2: #b3dbfd;\n",
              "  --sklearn-color-fitted-level-3: cornflowerblue;\n",
              "\n",
              "  /* Specific color for light theme */\n",
              "  --sklearn-color-text-on-default-background: var(--sg-text-color, var(--theme-code-foreground, var(--jp-content-font-color1, black)));\n",
              "  --sklearn-color-background: var(--sg-background-color, var(--theme-background, var(--jp-layout-color0, white)));\n",
              "  --sklearn-color-border-box: var(--sg-text-color, var(--theme-code-foreground, var(--jp-content-font-color1, black)));\n",
              "  --sklearn-color-icon: #696969;\n",
              "\n",
              "  @media (prefers-color-scheme: dark) {\n",
              "    /* Redefinition of color scheme for dark theme */\n",
              "    --sklearn-color-text-on-default-background: var(--sg-text-color, var(--theme-code-foreground, var(--jp-content-font-color1, white)));\n",
              "    --sklearn-color-background: var(--sg-background-color, var(--theme-background, var(--jp-layout-color0, #111)));\n",
              "    --sklearn-color-border-box: var(--sg-text-color, var(--theme-code-foreground, var(--jp-content-font-color1, white)));\n",
              "    --sklearn-color-icon: #878787;\n",
              "  }\n",
              "}\n",
              "\n",
              "#sk-container-id-7 {\n",
              "  color: var(--sklearn-color-text);\n",
              "}\n",
              "\n",
              "#sk-container-id-7 pre {\n",
              "  padding: 0;\n",
              "}\n",
              "\n",
              "#sk-container-id-7 input.sk-hidden--visually {\n",
              "  border: 0;\n",
              "  clip: rect(1px 1px 1px 1px);\n",
              "  clip: rect(1px, 1px, 1px, 1px);\n",
              "  height: 1px;\n",
              "  margin: -1px;\n",
              "  overflow: hidden;\n",
              "  padding: 0;\n",
              "  position: absolute;\n",
              "  width: 1px;\n",
              "}\n",
              "\n",
              "#sk-container-id-7 div.sk-dashed-wrapped {\n",
              "  border: 1px dashed var(--sklearn-color-line);\n",
              "  margin: 0 0.4em 0.5em 0.4em;\n",
              "  box-sizing: border-box;\n",
              "  padding-bottom: 0.4em;\n",
              "  background-color: var(--sklearn-color-background);\n",
              "}\n",
              "\n",
              "#sk-container-id-7 div.sk-container {\n",
              "  /* jupyter's `normalize.less` sets `[hidden] { display: none; }`\n",
              "     but bootstrap.min.css set `[hidden] { display: none !important; }`\n",
              "     so we also need the `!important` here to be able to override the\n",
              "     default hidden behavior on the sphinx rendered scikit-learn.org.\n",
              "     See: https://github.com/scikit-learn/scikit-learn/issues/21755 */\n",
              "  display: inline-block !important;\n",
              "  position: relative;\n",
              "}\n",
              "\n",
              "#sk-container-id-7 div.sk-text-repr-fallback {\n",
              "  display: none;\n",
              "}\n",
              "\n",
              "div.sk-parallel-item,\n",
              "div.sk-serial,\n",
              "div.sk-item {\n",
              "  /* draw centered vertical line to link estimators */\n",
              "  background-image: linear-gradient(var(--sklearn-color-text-on-default-background), var(--sklearn-color-text-on-default-background));\n",
              "  background-size: 2px 100%;\n",
              "  background-repeat: no-repeat;\n",
              "  background-position: center center;\n",
              "}\n",
              "\n",
              "/* Parallel-specific style estimator block */\n",
              "\n",
              "#sk-container-id-7 div.sk-parallel-item::after {\n",
              "  content: \"\";\n",
              "  width: 100%;\n",
              "  border-bottom: 2px solid var(--sklearn-color-text-on-default-background);\n",
              "  flex-grow: 1;\n",
              "}\n",
              "\n",
              "#sk-container-id-7 div.sk-parallel {\n",
              "  display: flex;\n",
              "  align-items: stretch;\n",
              "  justify-content: center;\n",
              "  background-color: var(--sklearn-color-background);\n",
              "  position: relative;\n",
              "}\n",
              "\n",
              "#sk-container-id-7 div.sk-parallel-item {\n",
              "  display: flex;\n",
              "  flex-direction: column;\n",
              "}\n",
              "\n",
              "#sk-container-id-7 div.sk-parallel-item:first-child::after {\n",
              "  align-self: flex-end;\n",
              "  width: 50%;\n",
              "}\n",
              "\n",
              "#sk-container-id-7 div.sk-parallel-item:last-child::after {\n",
              "  align-self: flex-start;\n",
              "  width: 50%;\n",
              "}\n",
              "\n",
              "#sk-container-id-7 div.sk-parallel-item:only-child::after {\n",
              "  width: 0;\n",
              "}\n",
              "\n",
              "/* Serial-specific style estimator block */\n",
              "\n",
              "#sk-container-id-7 div.sk-serial {\n",
              "  display: flex;\n",
              "  flex-direction: column;\n",
              "  align-items: center;\n",
              "  background-color: var(--sklearn-color-background);\n",
              "  padding-right: 1em;\n",
              "  padding-left: 1em;\n",
              "}\n",
              "\n",
              "\n",
              "/* Toggleable style: style used for estimator/Pipeline/ColumnTransformer box that is\n",
              "clickable and can be expanded/collapsed.\n",
              "- Pipeline and ColumnTransformer use this feature and define the default style\n",
              "- Estimators will overwrite some part of the style using the `sk-estimator` class\n",
              "*/\n",
              "\n",
              "/* Pipeline and ColumnTransformer style (default) */\n",
              "\n",
              "#sk-container-id-7 div.sk-toggleable {\n",
              "  /* Default theme specific background. It is overwritten whether we have a\n",
              "  specific estimator or a Pipeline/ColumnTransformer */\n",
              "  background-color: var(--sklearn-color-background);\n",
              "}\n",
              "\n",
              "/* Toggleable label */\n",
              "#sk-container-id-7 label.sk-toggleable__label {\n",
              "  cursor: pointer;\n",
              "  display: flex;\n",
              "  width: 100%;\n",
              "  margin-bottom: 0;\n",
              "  padding: 0.5em;\n",
              "  box-sizing: border-box;\n",
              "  text-align: center;\n",
              "  align-items: start;\n",
              "  justify-content: space-between;\n",
              "  gap: 0.5em;\n",
              "}\n",
              "\n",
              "#sk-container-id-7 label.sk-toggleable__label .caption {\n",
              "  font-size: 0.6rem;\n",
              "  font-weight: lighter;\n",
              "  color: var(--sklearn-color-text-muted);\n",
              "}\n",
              "\n",
              "#sk-container-id-7 label.sk-toggleable__label-arrow:before {\n",
              "  /* Arrow on the left of the label */\n",
              "  content: \"▸\";\n",
              "  float: left;\n",
              "  margin-right: 0.25em;\n",
              "  color: var(--sklearn-color-icon);\n",
              "}\n",
              "\n",
              "#sk-container-id-7 label.sk-toggleable__label-arrow:hover:before {\n",
              "  color: var(--sklearn-color-text);\n",
              "}\n",
              "\n",
              "/* Toggleable content - dropdown */\n",
              "\n",
              "#sk-container-id-7 div.sk-toggleable__content {\n",
              "  max-height: 0;\n",
              "  max-width: 0;\n",
              "  overflow: hidden;\n",
              "  text-align: left;\n",
              "  /* unfitted */\n",
              "  background-color: var(--sklearn-color-unfitted-level-0);\n",
              "}\n",
              "\n",
              "#sk-container-id-7 div.sk-toggleable__content.fitted {\n",
              "  /* fitted */\n",
              "  background-color: var(--sklearn-color-fitted-level-0);\n",
              "}\n",
              "\n",
              "#sk-container-id-7 div.sk-toggleable__content pre {\n",
              "  margin: 0.2em;\n",
              "  border-radius: 0.25em;\n",
              "  color: var(--sklearn-color-text);\n",
              "  /* unfitted */\n",
              "  background-color: var(--sklearn-color-unfitted-level-0);\n",
              "}\n",
              "\n",
              "#sk-container-id-7 div.sk-toggleable__content.fitted pre {\n",
              "  /* unfitted */\n",
              "  background-color: var(--sklearn-color-fitted-level-0);\n",
              "}\n",
              "\n",
              "#sk-container-id-7 input.sk-toggleable__control:checked~div.sk-toggleable__content {\n",
              "  /* Expand drop-down */\n",
              "  max-height: 200px;\n",
              "  max-width: 100%;\n",
              "  overflow: auto;\n",
              "}\n",
              "\n",
              "#sk-container-id-7 input.sk-toggleable__control:checked~label.sk-toggleable__label-arrow:before {\n",
              "  content: \"▾\";\n",
              "}\n",
              "\n",
              "/* Pipeline/ColumnTransformer-specific style */\n",
              "\n",
              "#sk-container-id-7 div.sk-label input.sk-toggleable__control:checked~label.sk-toggleable__label {\n",
              "  color: var(--sklearn-color-text);\n",
              "  background-color: var(--sklearn-color-unfitted-level-2);\n",
              "}\n",
              "\n",
              "#sk-container-id-7 div.sk-label.fitted input.sk-toggleable__control:checked~label.sk-toggleable__label {\n",
              "  background-color: var(--sklearn-color-fitted-level-2);\n",
              "}\n",
              "\n",
              "/* Estimator-specific style */\n",
              "\n",
              "/* Colorize estimator box */\n",
              "#sk-container-id-7 div.sk-estimator input.sk-toggleable__control:checked~label.sk-toggleable__label {\n",
              "  /* unfitted */\n",
              "  background-color: var(--sklearn-color-unfitted-level-2);\n",
              "}\n",
              "\n",
              "#sk-container-id-7 div.sk-estimator.fitted input.sk-toggleable__control:checked~label.sk-toggleable__label {\n",
              "  /* fitted */\n",
              "  background-color: var(--sklearn-color-fitted-level-2);\n",
              "}\n",
              "\n",
              "#sk-container-id-7 div.sk-label label.sk-toggleable__label,\n",
              "#sk-container-id-7 div.sk-label label {\n",
              "  /* The background is the default theme color */\n",
              "  color: var(--sklearn-color-text-on-default-background);\n",
              "}\n",
              "\n",
              "/* On hover, darken the color of the background */\n",
              "#sk-container-id-7 div.sk-label:hover label.sk-toggleable__label {\n",
              "  color: var(--sklearn-color-text);\n",
              "  background-color: var(--sklearn-color-unfitted-level-2);\n",
              "}\n",
              "\n",
              "/* Label box, darken color on hover, fitted */\n",
              "#sk-container-id-7 div.sk-label.fitted:hover label.sk-toggleable__label.fitted {\n",
              "  color: var(--sklearn-color-text);\n",
              "  background-color: var(--sklearn-color-fitted-level-2);\n",
              "}\n",
              "\n",
              "/* Estimator label */\n",
              "\n",
              "#sk-container-id-7 div.sk-label label {\n",
              "  font-family: monospace;\n",
              "  font-weight: bold;\n",
              "  display: inline-block;\n",
              "  line-height: 1.2em;\n",
              "}\n",
              "\n",
              "#sk-container-id-7 div.sk-label-container {\n",
              "  text-align: center;\n",
              "}\n",
              "\n",
              "/* Estimator-specific */\n",
              "#sk-container-id-7 div.sk-estimator {\n",
              "  font-family: monospace;\n",
              "  border: 1px dotted var(--sklearn-color-border-box);\n",
              "  border-radius: 0.25em;\n",
              "  box-sizing: border-box;\n",
              "  margin-bottom: 0.5em;\n",
              "  /* unfitted */\n",
              "  background-color: var(--sklearn-color-unfitted-level-0);\n",
              "}\n",
              "\n",
              "#sk-container-id-7 div.sk-estimator.fitted {\n",
              "  /* fitted */\n",
              "  background-color: var(--sklearn-color-fitted-level-0);\n",
              "}\n",
              "\n",
              "/* on hover */\n",
              "#sk-container-id-7 div.sk-estimator:hover {\n",
              "  /* unfitted */\n",
              "  background-color: var(--sklearn-color-unfitted-level-2);\n",
              "}\n",
              "\n",
              "#sk-container-id-7 div.sk-estimator.fitted:hover {\n",
              "  /* fitted */\n",
              "  background-color: var(--sklearn-color-fitted-level-2);\n",
              "}\n",
              "\n",
              "/* Specification for estimator info (e.g. \"i\" and \"?\") */\n",
              "\n",
              "/* Common style for \"i\" and \"?\" */\n",
              "\n",
              ".sk-estimator-doc-link,\n",
              "a:link.sk-estimator-doc-link,\n",
              "a:visited.sk-estimator-doc-link {\n",
              "  float: right;\n",
              "  font-size: smaller;\n",
              "  line-height: 1em;\n",
              "  font-family: monospace;\n",
              "  background-color: var(--sklearn-color-background);\n",
              "  border-radius: 1em;\n",
              "  height: 1em;\n",
              "  width: 1em;\n",
              "  text-decoration: none !important;\n",
              "  margin-left: 0.5em;\n",
              "  text-align: center;\n",
              "  /* unfitted */\n",
              "  border: var(--sklearn-color-unfitted-level-1) 1pt solid;\n",
              "  color: var(--sklearn-color-unfitted-level-1);\n",
              "}\n",
              "\n",
              ".sk-estimator-doc-link.fitted,\n",
              "a:link.sk-estimator-doc-link.fitted,\n",
              "a:visited.sk-estimator-doc-link.fitted {\n",
              "  /* fitted */\n",
              "  border: var(--sklearn-color-fitted-level-1) 1pt solid;\n",
              "  color: var(--sklearn-color-fitted-level-1);\n",
              "}\n",
              "\n",
              "/* On hover */\n",
              "div.sk-estimator:hover .sk-estimator-doc-link:hover,\n",
              ".sk-estimator-doc-link:hover,\n",
              "div.sk-label-container:hover .sk-estimator-doc-link:hover,\n",
              ".sk-estimator-doc-link:hover {\n",
              "  /* unfitted */\n",
              "  background-color: var(--sklearn-color-unfitted-level-3);\n",
              "  color: var(--sklearn-color-background);\n",
              "  text-decoration: none;\n",
              "}\n",
              "\n",
              "div.sk-estimator.fitted:hover .sk-estimator-doc-link.fitted:hover,\n",
              ".sk-estimator-doc-link.fitted:hover,\n",
              "div.sk-label-container:hover .sk-estimator-doc-link.fitted:hover,\n",
              ".sk-estimator-doc-link.fitted:hover {\n",
              "  /* fitted */\n",
              "  background-color: var(--sklearn-color-fitted-level-3);\n",
              "  color: var(--sklearn-color-background);\n",
              "  text-decoration: none;\n",
              "}\n",
              "\n",
              "/* Span, style for the box shown on hovering the info icon */\n",
              ".sk-estimator-doc-link span {\n",
              "  display: none;\n",
              "  z-index: 9999;\n",
              "  position: relative;\n",
              "  font-weight: normal;\n",
              "  right: .2ex;\n",
              "  padding: .5ex;\n",
              "  margin: .5ex;\n",
              "  width: min-content;\n",
              "  min-width: 20ex;\n",
              "  max-width: 50ex;\n",
              "  color: var(--sklearn-color-text);\n",
              "  box-shadow: 2pt 2pt 4pt #999;\n",
              "  /* unfitted */\n",
              "  background: var(--sklearn-color-unfitted-level-0);\n",
              "  border: .5pt solid var(--sklearn-color-unfitted-level-3);\n",
              "}\n",
              "\n",
              ".sk-estimator-doc-link.fitted span {\n",
              "  /* fitted */\n",
              "  background: var(--sklearn-color-fitted-level-0);\n",
              "  border: var(--sklearn-color-fitted-level-3);\n",
              "}\n",
              "\n",
              ".sk-estimator-doc-link:hover span {\n",
              "  display: block;\n",
              "}\n",
              "\n",
              "/* \"?\"-specific style due to the `<a>` HTML tag */\n",
              "\n",
              "#sk-container-id-7 a.estimator_doc_link {\n",
              "  float: right;\n",
              "  font-size: 1rem;\n",
              "  line-height: 1em;\n",
              "  font-family: monospace;\n",
              "  background-color: var(--sklearn-color-background);\n",
              "  border-radius: 1rem;\n",
              "  height: 1rem;\n",
              "  width: 1rem;\n",
              "  text-decoration: none;\n",
              "  /* unfitted */\n",
              "  color: var(--sklearn-color-unfitted-level-1);\n",
              "  border: var(--sklearn-color-unfitted-level-1) 1pt solid;\n",
              "}\n",
              "\n",
              "#sk-container-id-7 a.estimator_doc_link.fitted {\n",
              "  /* fitted */\n",
              "  border: var(--sklearn-color-fitted-level-1) 1pt solid;\n",
              "  color: var(--sklearn-color-fitted-level-1);\n",
              "}\n",
              "\n",
              "/* On hover */\n",
              "#sk-container-id-7 a.estimator_doc_link:hover {\n",
              "  /* unfitted */\n",
              "  background-color: var(--sklearn-color-unfitted-level-3);\n",
              "  color: var(--sklearn-color-background);\n",
              "  text-decoration: none;\n",
              "}\n",
              "\n",
              "#sk-container-id-7 a.estimator_doc_link.fitted:hover {\n",
              "  /* fitted */\n",
              "  background-color: var(--sklearn-color-fitted-level-3);\n",
              "}\n",
              "</style><div id=\"sk-container-id-7\" class=\"sk-top-container\"><div class=\"sk-text-repr-fallback\"><pre>RandomForestClassifier(random_state=42)</pre><b>In a Jupyter environment, please rerun this cell to show the HTML representation or trust the notebook. <br />On GitHub, the HTML representation is unable to render, please try loading this page with nbviewer.org.</b></div><div class=\"sk-container\" hidden><div class=\"sk-item\"><div class=\"sk-estimator fitted sk-toggleable\"><input class=\"sk-toggleable__control sk-hidden--visually\" id=\"sk-estimator-id-7\" type=\"checkbox\" checked><label for=\"sk-estimator-id-7\" class=\"sk-toggleable__label fitted sk-toggleable__label-arrow\"><div><div>RandomForestClassifier</div></div><div><a class=\"sk-estimator-doc-link fitted\" rel=\"noreferrer\" target=\"_blank\" href=\"https://scikit-learn.org/1.6/modules/generated/sklearn.ensemble.RandomForestClassifier.html\">?<span>Documentation for RandomForestClassifier</span></a><span class=\"sk-estimator-doc-link fitted\">i<span>Fitted</span></span></div></label><div class=\"sk-toggleable__content fitted\"><pre>RandomForestClassifier(random_state=42)</pre></div> </div></div></div></div>"
            ]
          },
          "metadata": {},
          "execution_count": 63
        }
      ]
    },
    {
      "cell_type": "markdown",
      "source": [
        "Implementing Active Learning loop for 20 iterations"
      ],
      "metadata": {
        "id": "bqtDxmTauQCB"
      }
    },
    {
      "cell_type": "code",
      "source": [
        "#empty list for stories the accuracy values\n",
        "random_sampling_accuracies = []\n",
        "\n",
        "for iteration in range(20):\n",
        "  #randomly selecting a sample from the unlabeled pool\n",
        "  idx = np.random.choice(len(X_unlabeled1))\n",
        "\n",
        "  #getting the selected sample and its true label\n",
        "  X_selected1 = X_unlabeled1[idx]\n",
        "  y_selected1 = y_unlabeled1[idx]\n",
        "\n",
        "  #adding the selected sample and its label to the labeled dataset\n",
        "  X_labeled1 = np.vstack([X_labeled1, X_selected1])  #adding new sample to labeled dataset\n",
        "  y_labeled1 = np.append(y_labeled1, y_selected1)    #adding its label to labeled dataset\n",
        "\n",
        "  #removing the selected sample from the unlabeled dataset\n",
        "  X_unlabeled1 = np.delete(X_unlabeled1, idx, axis=0)\n",
        "  y_unlabeled1 = np.delete(y_unlabeled1, idx, axis=0)\n",
        "\n",
        "  #retraining the model with the updated labeled dataset\n",
        "  rf_classifier1.fit(X_labeled1, y_labeled1)\n",
        "\n",
        "  #predict on the test set\n",
        "  y_pred1 = rf_classifier1.predict(X_test)\n",
        "\n",
        "  #claculating accuracy on the test set\n",
        "  accuracy1 = accuracy_score(y_test, y_pred1)\n",
        "  random_sampling_accuracies.append(accuracy1)\n",
        "\n",
        "  #printing accuracy on each iteration\n",
        "  print(f\"Iteration {iteration + 1}: Accuracy = {accuracy1:.4f}\")"
      ],
      "metadata": {
        "colab": {
          "base_uri": "https://localhost:8080/"
        },
        "id": "sno9eBXPuKPl",
        "outputId": "50e84c25-4622-45db-df28-23d64ea17499"
      },
      "execution_count": null,
      "outputs": [
        {
          "output_type": "stream",
          "name": "stdout",
          "text": [
            "Iteration 1: Accuracy = 0.8112\n",
            "Iteration 2: Accuracy = 0.8081\n",
            "Iteration 3: Accuracy = 0.8035\n",
            "Iteration 4: Accuracy = 0.8142\n",
            "Iteration 5: Accuracy = 0.8102\n",
            "Iteration 6: Accuracy = 0.8098\n",
            "Iteration 7: Accuracy = 0.8102\n",
            "Iteration 8: Accuracy = 0.8153\n",
            "Iteration 9: Accuracy = 0.8112\n",
            "Iteration 10: Accuracy = 0.8062\n",
            "Iteration 11: Accuracy = 0.8104\n",
            "Iteration 12: Accuracy = 0.8058\n",
            "Iteration 13: Accuracy = 0.8080\n",
            "Iteration 14: Accuracy = 0.8050\n",
            "Iteration 15: Accuracy = 0.8093\n",
            "Iteration 16: Accuracy = 0.8082\n",
            "Iteration 17: Accuracy = 0.8112\n",
            "Iteration 18: Accuracy = 0.8087\n",
            "Iteration 19: Accuracy = 0.8118\n",
            "Iteration 20: Accuracy = 0.8106\n"
          ]
        }
      ]
    },
    {
      "cell_type": "markdown",
      "source": [
        "###**Task 3 : Implement Uncertainty Sampling for Active Learning**"
      ],
      "metadata": {
        "id": "8YPYTFprdAfE"
      }
    },
    {
      "cell_type": "markdown",
      "source": [
        "Training a Random Forest Classifier on the initial dataset of 200 samples"
      ],
      "metadata": {
        "id": "tcEF-rBleGCz"
      }
    },
    {
      "cell_type": "code",
      "source": [
        "#importing required libraries\n",
        "from sklearn.ensemble import RandomForestClassifier\n",
        "from sklearn.metrics import accuracy_score\n",
        "\n",
        "#initializing Random Forest Classifier\n",
        "rf_classifier2 = RandomForestClassifier(random_state=42)\n",
        "\n",
        "#training the classifier on the initial labeled dataset\n",
        "rf_classifier2.fit(X_labeled2, y_labeled2)"
      ],
      "metadata": {
        "colab": {
          "base_uri": "https://localhost:8080/",
          "height": 80
        },
        "id": "n4wOSdva0HJh",
        "outputId": "b8460a14-c2df-4ddd-8421-f259235a64a1"
      },
      "execution_count": null,
      "outputs": [
        {
          "output_type": "execute_result",
          "data": {
            "text/plain": [
              "RandomForestClassifier(random_state=42)"
            ],
            "text/html": [
              "<style>#sk-container-id-8 {\n",
              "  /* Definition of color scheme common for light and dark mode */\n",
              "  --sklearn-color-text: #000;\n",
              "  --sklearn-color-text-muted: #666;\n",
              "  --sklearn-color-line: gray;\n",
              "  /* Definition of color scheme for unfitted estimators */\n",
              "  --sklearn-color-unfitted-level-0: #fff5e6;\n",
              "  --sklearn-color-unfitted-level-1: #f6e4d2;\n",
              "  --sklearn-color-unfitted-level-2: #ffe0b3;\n",
              "  --sklearn-color-unfitted-level-3: chocolate;\n",
              "  /* Definition of color scheme for fitted estimators */\n",
              "  --sklearn-color-fitted-level-0: #f0f8ff;\n",
              "  --sklearn-color-fitted-level-1: #d4ebff;\n",
              "  --sklearn-color-fitted-level-2: #b3dbfd;\n",
              "  --sklearn-color-fitted-level-3: cornflowerblue;\n",
              "\n",
              "  /* Specific color for light theme */\n",
              "  --sklearn-color-text-on-default-background: var(--sg-text-color, var(--theme-code-foreground, var(--jp-content-font-color1, black)));\n",
              "  --sklearn-color-background: var(--sg-background-color, var(--theme-background, var(--jp-layout-color0, white)));\n",
              "  --sklearn-color-border-box: var(--sg-text-color, var(--theme-code-foreground, var(--jp-content-font-color1, black)));\n",
              "  --sklearn-color-icon: #696969;\n",
              "\n",
              "  @media (prefers-color-scheme: dark) {\n",
              "    /* Redefinition of color scheme for dark theme */\n",
              "    --sklearn-color-text-on-default-background: var(--sg-text-color, var(--theme-code-foreground, var(--jp-content-font-color1, white)));\n",
              "    --sklearn-color-background: var(--sg-background-color, var(--theme-background, var(--jp-layout-color0, #111)));\n",
              "    --sklearn-color-border-box: var(--sg-text-color, var(--theme-code-foreground, var(--jp-content-font-color1, white)));\n",
              "    --sklearn-color-icon: #878787;\n",
              "  }\n",
              "}\n",
              "\n",
              "#sk-container-id-8 {\n",
              "  color: var(--sklearn-color-text);\n",
              "}\n",
              "\n",
              "#sk-container-id-8 pre {\n",
              "  padding: 0;\n",
              "}\n",
              "\n",
              "#sk-container-id-8 input.sk-hidden--visually {\n",
              "  border: 0;\n",
              "  clip: rect(1px 1px 1px 1px);\n",
              "  clip: rect(1px, 1px, 1px, 1px);\n",
              "  height: 1px;\n",
              "  margin: -1px;\n",
              "  overflow: hidden;\n",
              "  padding: 0;\n",
              "  position: absolute;\n",
              "  width: 1px;\n",
              "}\n",
              "\n",
              "#sk-container-id-8 div.sk-dashed-wrapped {\n",
              "  border: 1px dashed var(--sklearn-color-line);\n",
              "  margin: 0 0.4em 0.5em 0.4em;\n",
              "  box-sizing: border-box;\n",
              "  padding-bottom: 0.4em;\n",
              "  background-color: var(--sklearn-color-background);\n",
              "}\n",
              "\n",
              "#sk-container-id-8 div.sk-container {\n",
              "  /* jupyter's `normalize.less` sets `[hidden] { display: none; }`\n",
              "     but bootstrap.min.css set `[hidden] { display: none !important; }`\n",
              "     so we also need the `!important` here to be able to override the\n",
              "     default hidden behavior on the sphinx rendered scikit-learn.org.\n",
              "     See: https://github.com/scikit-learn/scikit-learn/issues/21755 */\n",
              "  display: inline-block !important;\n",
              "  position: relative;\n",
              "}\n",
              "\n",
              "#sk-container-id-8 div.sk-text-repr-fallback {\n",
              "  display: none;\n",
              "}\n",
              "\n",
              "div.sk-parallel-item,\n",
              "div.sk-serial,\n",
              "div.sk-item {\n",
              "  /* draw centered vertical line to link estimators */\n",
              "  background-image: linear-gradient(var(--sklearn-color-text-on-default-background), var(--sklearn-color-text-on-default-background));\n",
              "  background-size: 2px 100%;\n",
              "  background-repeat: no-repeat;\n",
              "  background-position: center center;\n",
              "}\n",
              "\n",
              "/* Parallel-specific style estimator block */\n",
              "\n",
              "#sk-container-id-8 div.sk-parallel-item::after {\n",
              "  content: \"\";\n",
              "  width: 100%;\n",
              "  border-bottom: 2px solid var(--sklearn-color-text-on-default-background);\n",
              "  flex-grow: 1;\n",
              "}\n",
              "\n",
              "#sk-container-id-8 div.sk-parallel {\n",
              "  display: flex;\n",
              "  align-items: stretch;\n",
              "  justify-content: center;\n",
              "  background-color: var(--sklearn-color-background);\n",
              "  position: relative;\n",
              "}\n",
              "\n",
              "#sk-container-id-8 div.sk-parallel-item {\n",
              "  display: flex;\n",
              "  flex-direction: column;\n",
              "}\n",
              "\n",
              "#sk-container-id-8 div.sk-parallel-item:first-child::after {\n",
              "  align-self: flex-end;\n",
              "  width: 50%;\n",
              "}\n",
              "\n",
              "#sk-container-id-8 div.sk-parallel-item:last-child::after {\n",
              "  align-self: flex-start;\n",
              "  width: 50%;\n",
              "}\n",
              "\n",
              "#sk-container-id-8 div.sk-parallel-item:only-child::after {\n",
              "  width: 0;\n",
              "}\n",
              "\n",
              "/* Serial-specific style estimator block */\n",
              "\n",
              "#sk-container-id-8 div.sk-serial {\n",
              "  display: flex;\n",
              "  flex-direction: column;\n",
              "  align-items: center;\n",
              "  background-color: var(--sklearn-color-background);\n",
              "  padding-right: 1em;\n",
              "  padding-left: 1em;\n",
              "}\n",
              "\n",
              "\n",
              "/* Toggleable style: style used for estimator/Pipeline/ColumnTransformer box that is\n",
              "clickable and can be expanded/collapsed.\n",
              "- Pipeline and ColumnTransformer use this feature and define the default style\n",
              "- Estimators will overwrite some part of the style using the `sk-estimator` class\n",
              "*/\n",
              "\n",
              "/* Pipeline and ColumnTransformer style (default) */\n",
              "\n",
              "#sk-container-id-8 div.sk-toggleable {\n",
              "  /* Default theme specific background. It is overwritten whether we have a\n",
              "  specific estimator or a Pipeline/ColumnTransformer */\n",
              "  background-color: var(--sklearn-color-background);\n",
              "}\n",
              "\n",
              "/* Toggleable label */\n",
              "#sk-container-id-8 label.sk-toggleable__label {\n",
              "  cursor: pointer;\n",
              "  display: flex;\n",
              "  width: 100%;\n",
              "  margin-bottom: 0;\n",
              "  padding: 0.5em;\n",
              "  box-sizing: border-box;\n",
              "  text-align: center;\n",
              "  align-items: start;\n",
              "  justify-content: space-between;\n",
              "  gap: 0.5em;\n",
              "}\n",
              "\n",
              "#sk-container-id-8 label.sk-toggleable__label .caption {\n",
              "  font-size: 0.6rem;\n",
              "  font-weight: lighter;\n",
              "  color: var(--sklearn-color-text-muted);\n",
              "}\n",
              "\n",
              "#sk-container-id-8 label.sk-toggleable__label-arrow:before {\n",
              "  /* Arrow on the left of the label */\n",
              "  content: \"▸\";\n",
              "  float: left;\n",
              "  margin-right: 0.25em;\n",
              "  color: var(--sklearn-color-icon);\n",
              "}\n",
              "\n",
              "#sk-container-id-8 label.sk-toggleable__label-arrow:hover:before {\n",
              "  color: var(--sklearn-color-text);\n",
              "}\n",
              "\n",
              "/* Toggleable content - dropdown */\n",
              "\n",
              "#sk-container-id-8 div.sk-toggleable__content {\n",
              "  max-height: 0;\n",
              "  max-width: 0;\n",
              "  overflow: hidden;\n",
              "  text-align: left;\n",
              "  /* unfitted */\n",
              "  background-color: var(--sklearn-color-unfitted-level-0);\n",
              "}\n",
              "\n",
              "#sk-container-id-8 div.sk-toggleable__content.fitted {\n",
              "  /* fitted */\n",
              "  background-color: var(--sklearn-color-fitted-level-0);\n",
              "}\n",
              "\n",
              "#sk-container-id-8 div.sk-toggleable__content pre {\n",
              "  margin: 0.2em;\n",
              "  border-radius: 0.25em;\n",
              "  color: var(--sklearn-color-text);\n",
              "  /* unfitted */\n",
              "  background-color: var(--sklearn-color-unfitted-level-0);\n",
              "}\n",
              "\n",
              "#sk-container-id-8 div.sk-toggleable__content.fitted pre {\n",
              "  /* unfitted */\n",
              "  background-color: var(--sklearn-color-fitted-level-0);\n",
              "}\n",
              "\n",
              "#sk-container-id-8 input.sk-toggleable__control:checked~div.sk-toggleable__content {\n",
              "  /* Expand drop-down */\n",
              "  max-height: 200px;\n",
              "  max-width: 100%;\n",
              "  overflow: auto;\n",
              "}\n",
              "\n",
              "#sk-container-id-8 input.sk-toggleable__control:checked~label.sk-toggleable__label-arrow:before {\n",
              "  content: \"▾\";\n",
              "}\n",
              "\n",
              "/* Pipeline/ColumnTransformer-specific style */\n",
              "\n",
              "#sk-container-id-8 div.sk-label input.sk-toggleable__control:checked~label.sk-toggleable__label {\n",
              "  color: var(--sklearn-color-text);\n",
              "  background-color: var(--sklearn-color-unfitted-level-2);\n",
              "}\n",
              "\n",
              "#sk-container-id-8 div.sk-label.fitted input.sk-toggleable__control:checked~label.sk-toggleable__label {\n",
              "  background-color: var(--sklearn-color-fitted-level-2);\n",
              "}\n",
              "\n",
              "/* Estimator-specific style */\n",
              "\n",
              "/* Colorize estimator box */\n",
              "#sk-container-id-8 div.sk-estimator input.sk-toggleable__control:checked~label.sk-toggleable__label {\n",
              "  /* unfitted */\n",
              "  background-color: var(--sklearn-color-unfitted-level-2);\n",
              "}\n",
              "\n",
              "#sk-container-id-8 div.sk-estimator.fitted input.sk-toggleable__control:checked~label.sk-toggleable__label {\n",
              "  /* fitted */\n",
              "  background-color: var(--sklearn-color-fitted-level-2);\n",
              "}\n",
              "\n",
              "#sk-container-id-8 div.sk-label label.sk-toggleable__label,\n",
              "#sk-container-id-8 div.sk-label label {\n",
              "  /* The background is the default theme color */\n",
              "  color: var(--sklearn-color-text-on-default-background);\n",
              "}\n",
              "\n",
              "/* On hover, darken the color of the background */\n",
              "#sk-container-id-8 div.sk-label:hover label.sk-toggleable__label {\n",
              "  color: var(--sklearn-color-text);\n",
              "  background-color: var(--sklearn-color-unfitted-level-2);\n",
              "}\n",
              "\n",
              "/* Label box, darken color on hover, fitted */\n",
              "#sk-container-id-8 div.sk-label.fitted:hover label.sk-toggleable__label.fitted {\n",
              "  color: var(--sklearn-color-text);\n",
              "  background-color: var(--sklearn-color-fitted-level-2);\n",
              "}\n",
              "\n",
              "/* Estimator label */\n",
              "\n",
              "#sk-container-id-8 div.sk-label label {\n",
              "  font-family: monospace;\n",
              "  font-weight: bold;\n",
              "  display: inline-block;\n",
              "  line-height: 1.2em;\n",
              "}\n",
              "\n",
              "#sk-container-id-8 div.sk-label-container {\n",
              "  text-align: center;\n",
              "}\n",
              "\n",
              "/* Estimator-specific */\n",
              "#sk-container-id-8 div.sk-estimator {\n",
              "  font-family: monospace;\n",
              "  border: 1px dotted var(--sklearn-color-border-box);\n",
              "  border-radius: 0.25em;\n",
              "  box-sizing: border-box;\n",
              "  margin-bottom: 0.5em;\n",
              "  /* unfitted */\n",
              "  background-color: var(--sklearn-color-unfitted-level-0);\n",
              "}\n",
              "\n",
              "#sk-container-id-8 div.sk-estimator.fitted {\n",
              "  /* fitted */\n",
              "  background-color: var(--sklearn-color-fitted-level-0);\n",
              "}\n",
              "\n",
              "/* on hover */\n",
              "#sk-container-id-8 div.sk-estimator:hover {\n",
              "  /* unfitted */\n",
              "  background-color: var(--sklearn-color-unfitted-level-2);\n",
              "}\n",
              "\n",
              "#sk-container-id-8 div.sk-estimator.fitted:hover {\n",
              "  /* fitted */\n",
              "  background-color: var(--sklearn-color-fitted-level-2);\n",
              "}\n",
              "\n",
              "/* Specification for estimator info (e.g. \"i\" and \"?\") */\n",
              "\n",
              "/* Common style for \"i\" and \"?\" */\n",
              "\n",
              ".sk-estimator-doc-link,\n",
              "a:link.sk-estimator-doc-link,\n",
              "a:visited.sk-estimator-doc-link {\n",
              "  float: right;\n",
              "  font-size: smaller;\n",
              "  line-height: 1em;\n",
              "  font-family: monospace;\n",
              "  background-color: var(--sklearn-color-background);\n",
              "  border-radius: 1em;\n",
              "  height: 1em;\n",
              "  width: 1em;\n",
              "  text-decoration: none !important;\n",
              "  margin-left: 0.5em;\n",
              "  text-align: center;\n",
              "  /* unfitted */\n",
              "  border: var(--sklearn-color-unfitted-level-1) 1pt solid;\n",
              "  color: var(--sklearn-color-unfitted-level-1);\n",
              "}\n",
              "\n",
              ".sk-estimator-doc-link.fitted,\n",
              "a:link.sk-estimator-doc-link.fitted,\n",
              "a:visited.sk-estimator-doc-link.fitted {\n",
              "  /* fitted */\n",
              "  border: var(--sklearn-color-fitted-level-1) 1pt solid;\n",
              "  color: var(--sklearn-color-fitted-level-1);\n",
              "}\n",
              "\n",
              "/* On hover */\n",
              "div.sk-estimator:hover .sk-estimator-doc-link:hover,\n",
              ".sk-estimator-doc-link:hover,\n",
              "div.sk-label-container:hover .sk-estimator-doc-link:hover,\n",
              ".sk-estimator-doc-link:hover {\n",
              "  /* unfitted */\n",
              "  background-color: var(--sklearn-color-unfitted-level-3);\n",
              "  color: var(--sklearn-color-background);\n",
              "  text-decoration: none;\n",
              "}\n",
              "\n",
              "div.sk-estimator.fitted:hover .sk-estimator-doc-link.fitted:hover,\n",
              ".sk-estimator-doc-link.fitted:hover,\n",
              "div.sk-label-container:hover .sk-estimator-doc-link.fitted:hover,\n",
              ".sk-estimator-doc-link.fitted:hover {\n",
              "  /* fitted */\n",
              "  background-color: var(--sklearn-color-fitted-level-3);\n",
              "  color: var(--sklearn-color-background);\n",
              "  text-decoration: none;\n",
              "}\n",
              "\n",
              "/* Span, style for the box shown on hovering the info icon */\n",
              ".sk-estimator-doc-link span {\n",
              "  display: none;\n",
              "  z-index: 9999;\n",
              "  position: relative;\n",
              "  font-weight: normal;\n",
              "  right: .2ex;\n",
              "  padding: .5ex;\n",
              "  margin: .5ex;\n",
              "  width: min-content;\n",
              "  min-width: 20ex;\n",
              "  max-width: 50ex;\n",
              "  color: var(--sklearn-color-text);\n",
              "  box-shadow: 2pt 2pt 4pt #999;\n",
              "  /* unfitted */\n",
              "  background: var(--sklearn-color-unfitted-level-0);\n",
              "  border: .5pt solid var(--sklearn-color-unfitted-level-3);\n",
              "}\n",
              "\n",
              ".sk-estimator-doc-link.fitted span {\n",
              "  /* fitted */\n",
              "  background: var(--sklearn-color-fitted-level-0);\n",
              "  border: var(--sklearn-color-fitted-level-3);\n",
              "}\n",
              "\n",
              ".sk-estimator-doc-link:hover span {\n",
              "  display: block;\n",
              "}\n",
              "\n",
              "/* \"?\"-specific style due to the `<a>` HTML tag */\n",
              "\n",
              "#sk-container-id-8 a.estimator_doc_link {\n",
              "  float: right;\n",
              "  font-size: 1rem;\n",
              "  line-height: 1em;\n",
              "  font-family: monospace;\n",
              "  background-color: var(--sklearn-color-background);\n",
              "  border-radius: 1rem;\n",
              "  height: 1rem;\n",
              "  width: 1rem;\n",
              "  text-decoration: none;\n",
              "  /* unfitted */\n",
              "  color: var(--sklearn-color-unfitted-level-1);\n",
              "  border: var(--sklearn-color-unfitted-level-1) 1pt solid;\n",
              "}\n",
              "\n",
              "#sk-container-id-8 a.estimator_doc_link.fitted {\n",
              "  /* fitted */\n",
              "  border: var(--sklearn-color-fitted-level-1) 1pt solid;\n",
              "  color: var(--sklearn-color-fitted-level-1);\n",
              "}\n",
              "\n",
              "/* On hover */\n",
              "#sk-container-id-8 a.estimator_doc_link:hover {\n",
              "  /* unfitted */\n",
              "  background-color: var(--sklearn-color-unfitted-level-3);\n",
              "  color: var(--sklearn-color-background);\n",
              "  text-decoration: none;\n",
              "}\n",
              "\n",
              "#sk-container-id-8 a.estimator_doc_link.fitted:hover {\n",
              "  /* fitted */\n",
              "  background-color: var(--sklearn-color-fitted-level-3);\n",
              "}\n",
              "</style><div id=\"sk-container-id-8\" class=\"sk-top-container\"><div class=\"sk-text-repr-fallback\"><pre>RandomForestClassifier(random_state=42)</pre><b>In a Jupyter environment, please rerun this cell to show the HTML representation or trust the notebook. <br />On GitHub, the HTML representation is unable to render, please try loading this page with nbviewer.org.</b></div><div class=\"sk-container\" hidden><div class=\"sk-item\"><div class=\"sk-estimator fitted sk-toggleable\"><input class=\"sk-toggleable__control sk-hidden--visually\" id=\"sk-estimator-id-8\" type=\"checkbox\" checked><label for=\"sk-estimator-id-8\" class=\"sk-toggleable__label fitted sk-toggleable__label-arrow\"><div><div>RandomForestClassifier</div></div><div><a class=\"sk-estimator-doc-link fitted\" rel=\"noreferrer\" target=\"_blank\" href=\"https://scikit-learn.org/1.6/modules/generated/sklearn.ensemble.RandomForestClassifier.html\">?<span>Documentation for RandomForestClassifier</span></a><span class=\"sk-estimator-doc-link fitted\">i<span>Fitted</span></span></div></label><div class=\"sk-toggleable__content fitted\"><pre>RandomForestClassifier(random_state=42)</pre></div> </div></div></div></div>"
            ]
          },
          "metadata": {},
          "execution_count": 67
        }
      ]
    },
    {
      "cell_type": "markdown",
      "source": [
        "Function to compute uncertainty"
      ],
      "metadata": {
        "id": "GGSukb0EfJAu"
      }
    },
    {
      "cell_type": "code",
      "source": [
        "#function to calculate entropy\n",
        "def entropy(probs):\n",
        "    entropy_value = -np.sum(probs * np.log(probs + 1e-9), axis=1)   #avoiding log0 by adding a small value\n",
        "    return entropy_value\n",
        "\n",
        "#computing uncertainty using entropy\n",
        "def compute_uncertainty(X_unlabeled, model):\n",
        "    probs = model.predict_proba(X_unlabeled)                        #getting probability predictions\n",
        "    uncertainties = entropy(probs)                                #computing entropy for each sample\n",
        "    return uncertainties"
      ],
      "metadata": {
        "id": "9qzw-lOIe_6m"
      },
      "execution_count": null,
      "outputs": []
    },
    {
      "cell_type": "markdown",
      "source": [
        "Implementing Active Learning loop for 20 iterations"
      ],
      "metadata": {
        "id": "bF_eFgPDiNOW"
      }
    },
    {
      "cell_type": "code",
      "source": [
        "#empty list for stories the accuracy values\n",
        "uncertainty_sampling_accuracies = []\n",
        "\n",
        "for iteration in range(20):\n",
        "\n",
        "  #computing uncertainty for each sample in the unlabeled pool\n",
        "  uncertainties = compute_uncertainty(X_unlabeled2, rf_classifier2)\n",
        "\n",
        "  #selecting the sample with the highest uncertainty\n",
        "  max_uncertainty_idx = np.argmax(uncertainties)\n",
        "\n",
        "  #getting the selected sample and its true label\n",
        "  X_selected2 = X_unlabeled2[max_uncertainty_idx]\n",
        "  y_selected2 = y_unlabeled2[max_uncertainty_idx]\n",
        "\n",
        "  #adding the selected sample and its label to the labeled dataset\n",
        "  X_labeled2 = np.vstack([X_labeled2, X_selected2])  #adding new sample to labeled dataset\n",
        "  y_labeled2 = np.append(y_labeled2, y_selected2)    #adding its label to labeled dataset\n",
        "\n",
        "  #removing the selected sample from the unlabeled dataset\n",
        "  X_unlabeled2 = np.delete(X_unlabeled2, max_uncertainty_idx, axis=0)\n",
        "  y_unlabeled2 = np.delete(y_unlabeled2, max_uncertainty_idx, axis=0)\n",
        "\n",
        "  #retraining the model with the updated labeled dataset\n",
        "  rf_classifier2.fit(X_labeled2, y_labeled2)\n",
        "\n",
        "  #predict on the test set\n",
        "  y_pred = rf_classifier2.predict(X_test)\n",
        "\n",
        "  #claculating accuracy on the test set\n",
        "  accuracy2 = accuracy_score(y_test, y_pred)\n",
        "  uncertainty_sampling_accuracies.append(accuracy2)\n",
        "\n",
        "  #printing accuracy on each iteration\n",
        "  print(f\"Iteration {iteration + 1}: Accuracy = {accuracy2:.4f}\")"
      ],
      "metadata": {
        "colab": {
          "base_uri": "https://localhost:8080/"
        },
        "id": "xELY7OuzgRaY",
        "outputId": "4784aaa7-dc64-4050-9884-898d8034bea4"
      },
      "execution_count": null,
      "outputs": [
        {
          "output_type": "stream",
          "name": "stdout",
          "text": [
            "Iteration 1: Accuracy = 0.8141\n",
            "Iteration 2: Accuracy = 0.8144\n",
            "Iteration 3: Accuracy = 0.8066\n",
            "Iteration 4: Accuracy = 0.8163\n",
            "Iteration 5: Accuracy = 0.8105\n",
            "Iteration 6: Accuracy = 0.8102\n",
            "Iteration 7: Accuracy = 0.8086\n",
            "Iteration 8: Accuracy = 0.8118\n",
            "Iteration 9: Accuracy = 0.8134\n",
            "Iteration 10: Accuracy = 0.8079\n",
            "Iteration 11: Accuracy = 0.8188\n",
            "Iteration 12: Accuracy = 0.8169\n",
            "Iteration 13: Accuracy = 0.8123\n",
            "Iteration 14: Accuracy = 0.8152\n",
            "Iteration 15: Accuracy = 0.8172\n",
            "Iteration 16: Accuracy = 0.8151\n",
            "Iteration 17: Accuracy = 0.8168\n",
            "Iteration 18: Accuracy = 0.8171\n",
            "Iteration 19: Accuracy = 0.8192\n",
            "Iteration 20: Accuracy = 0.8213\n"
          ]
        }
      ]
    },
    {
      "cell_type": "markdown",
      "source": [
        "###**Task 4 : Implement Query-by-Committee for Active Learning**"
      ],
      "metadata": {
        "id": "RpbpTXCKkigO"
      }
    },
    {
      "cell_type": "markdown",
      "source": [
        "Initializing a Committe to 5 models"
      ],
      "metadata": {
        "id": "1hA9IIoNk1V3"
      }
    },
    {
      "cell_type": "code",
      "source": [
        "#creating a committee of 5 models\n",
        "committee = [RandomForestClassifier(n_estimators=100, random_state=(42+i)) for i in range(5)]\n",
        "\n",
        "#training all the models on initial dataset\n",
        "for model in committee:\n",
        "  model.fit(X_labeled3, y_labeled3)"
      ],
      "metadata": {
        "id": "tPcZlwoijQQ7"
      },
      "execution_count": null,
      "outputs": []
    },
    {
      "cell_type": "markdown",
      "source": [
        "Defining the vote entropy function"
      ],
      "metadata": {
        "id": "Aw_dHM1boEH6"
      }
    },
    {
      "cell_type": "code",
      "source": [
        "def vote_entropy(committee_predictions):\n",
        "  num_samples = committee_predictions.shape[1]\n",
        "  vote_entropy_scores = np.zeros(num_samples)\n",
        "\n",
        "  for i in range(num_samples):\n",
        "    votes = committee_predictions[:, i]\n",
        "    unique_votes, counts = np.unique(votes, return_counts=True)\n",
        "    probs = counts / np.sum(counts)\n",
        "    vote_entropy_scores[i] = -np.sum(probs * np.log(probs + 1e-9))\n",
        "\n",
        "  return vote_entropy_scores"
      ],
      "metadata": {
        "id": "ul6QrIsDoDn6"
      },
      "execution_count": null,
      "outputs": []
    },
    {
      "cell_type": "markdown",
      "source": [
        " Implementing Query-by-Committee for Active Learning loop for 20 iterations\n"
      ],
      "metadata": {
        "id": "9nnA_8XXolos"
      }
    },
    {
      "cell_type": "code",
      "source": [
        "#empty list for stories the accuracy values\n",
        "committee_sampling_accuracies = []\n",
        "\n",
        "for iteration in range(20):\n",
        "\n",
        "  #get predictions from all the members of the committee\n",
        "  committee_preds = np.array([model.predict(X_unlabeled3) for model in committee])\n",
        "\n",
        "  #computing vote entropy for each sample\n",
        "  disagreement = vote_entropy(committee_preds)\n",
        "\n",
        "  #selecting the sample with the highest uncertainty\n",
        "  max_disagreement_idx = np.argmax(disagreement)\n",
        "\n",
        "  #getting the selected sample and its true label\n",
        "  X_selected3 = X_unlabeled3[max_disagreement_idx]\n",
        "  y_selected3 = y_unlabeled3[max_disagreement_idx]\n",
        "\n",
        "  #adding the selected sample and its label to the labeled dataset\n",
        "  X_labeled3 = np.vstack([X_labeled3, X_selected3])  #adding new sample to labeled dataset\n",
        "  y_labeled3 = np.append(y_labeled3, y_selected3)    #adding its label to labeled dataset\n",
        "\n",
        "  #removing the selected sample from the unlabeled dataset\n",
        "  X_unlabeled3 = np.delete(X_unlabeled3, max_disagreement_idx, axis=0)\n",
        "  y_unlabeled3 = np.delete(y_unlabeled3, max_disagreement_idx, axis=0)\n",
        "\n",
        "  #retraining the model with the updated labeled dataset\n",
        "  for model in committee:\n",
        "    model.fit(X_labeled3, y_labeled3)\n",
        "\n",
        "  #calculating accuracy on the test set using the first model in the committee (can be done for multiple models if needed)\n",
        "  y_pred = committee[0].predict(X_test)\n",
        "  accuracy3 = accuracy_score(y_test, y_pred)\n",
        "  committee_sampling_accuracies.append(accuracy3)\n",
        "\n",
        "  #printing accuracy on each iteration\n",
        "  print(f\"Iteration {iteration + 1}: Accuracy = {accuracy3:.4f}\")"
      ],
      "metadata": {
        "colab": {
          "base_uri": "https://localhost:8080/"
        },
        "id": "J204B77yoik9",
        "outputId": "10e022ef-e0df-45ab-fd76-39d277ca9402"
      },
      "execution_count": null,
      "outputs": [
        {
          "output_type": "stream",
          "name": "stdout",
          "text": [
            "Iteration 1: Accuracy = 0.8133\n",
            "Iteration 2: Accuracy = 0.8103\n",
            "Iteration 3: Accuracy = 0.8080\n",
            "Iteration 4: Accuracy = 0.8161\n",
            "Iteration 5: Accuracy = 0.8140\n",
            "Iteration 6: Accuracy = 0.8201\n",
            "Iteration 7: Accuracy = 0.8235\n",
            "Iteration 8: Accuracy = 0.8147\n",
            "Iteration 9: Accuracy = 0.8195\n",
            "Iteration 10: Accuracy = 0.8109\n",
            "Iteration 11: Accuracy = 0.8156\n",
            "Iteration 12: Accuracy = 0.8151\n",
            "Iteration 13: Accuracy = 0.8154\n",
            "Iteration 14: Accuracy = 0.8172\n",
            "Iteration 15: Accuracy = 0.8180\n",
            "Iteration 16: Accuracy = 0.8206\n",
            "Iteration 17: Accuracy = 0.8216\n",
            "Iteration 18: Accuracy = 0.8199\n",
            "Iteration 19: Accuracy = 0.8239\n",
            "Iteration 20: Accuracy = 0.8203\n"
          ]
        }
      ]
    },
    {
      "cell_type": "markdown",
      "source": [
        "###**Task 5 : Evaluation and Report**"
      ],
      "metadata": {
        "id": "cWHcrziPfwiK"
      }
    },
    {
      "cell_type": "markdown",
      "source": [
        "Plot of all the accuracies for all three methods for 20 iterations"
      ],
      "metadata": {
        "id": "-1WsHGGwQZzK"
      }
    },
    {
      "cell_type": "code",
      "source": [
        "#importing required libraries\n",
        "import matplotlib.pyplot as plt\n",
        "\n",
        "#1-to-20 iterations\n",
        "iterations = list(range(1, 21))\n",
        "\n",
        "#plot size\n",
        "plt.figure(figsize=(12, 8))\n",
        "\n",
        "#plotting accuracy for each stratergy\n",
        "plt.plot(iterations, random_sampling_accuracies, label=\"Random Sampling\", marker=\"o\")\n",
        "plt.plot(iterations, uncertainty_sampling_accuracies, label=\"Uncertainty Sampling\", marker=\"s\")\n",
        "plt.plot(iterations, committee_sampling_accuracies, label=\"Query-by-Committee\", marker=\"^\")\n",
        "\n",
        "#adding title\n",
        "plt.title(\"Comparison of Active Learning Strategies\")\n",
        "\n",
        "#adding labels\n",
        "plt.xlabel(\"Iterations\")\n",
        "plt.ylabel(\"Accuracy\")\n",
        "\n",
        "#adding legend\n",
        "plt.legend(loc=\"upper left\")\n",
        "\n",
        "#adding grid\n",
        "plt.grid(True)"
      ],
      "metadata": {
        "colab": {
          "base_uri": "https://localhost:8080/",
          "height": 446
        },
        "id": "-65rr_DdsS0C",
        "outputId": "9c40d5b7-8486-4ebd-d685-b5f12d2e26cc"
      },
      "execution_count": null,
      "outputs": [
        {
          "output_type": "display_data",
          "data": {
            "text/plain": [
              "<Figure size 1200x800 with 1 Axes>"
            ],
            "image/png": "[encoded data removed]"
          },
          "metadata": {}
        }
      ]
    },
    {
      "cell_type": "markdown",
      "source": [
        "Comparision of Final Model Accuracy across all 3 models"
      ],
      "metadata": {
        "id": "O05aI8bwQnIl"
      }
    },
    {
      "cell_type": "markdown",
      "source": [
        "- Random Model Sampling model shows minimal improvement in accuracy over the iterations since the model randomly chooses the samples in active learning.\n",
        "\n",
        "- Uncertainty Sampling model and Query-by-Committee model shows improvement in accuracy over the iterations, since it prioritizes more on the samples with high uncertainty and disagreement.\n",
        "\n",
        "- In comparision to Uncertainty Sampling, Query-by-Committee model shows more accuracy since it pays attention to diverse perspectives on data, selecting the samples where models disagree. While, uncertainty sampling relies on uncertainty of a single model."
      ],
      "metadata": {
        "id": "UThfOykDQv_-"
      }
    },
    {
      "cell_type": "markdown",
      "source": [
        "Comparision of Cost Effectiveness across all 3 models"
      ],
      "metadata": {
        "id": "c1X4YwPlS8Yv"
      }
    },
    {
      "cell_type": "markdown",
      "source": [
        "- Out of all the three strategies QBC model is the most cost-effective model followed by Uncertainty Sampling Model. Random Sampling is the least cost-effective model.\n",
        "\n",
        "- Random Sampling Model doesn't rely on any uncertainty or disagreement measure. Thus it may require large number of labeled data to notice any significant improvement in accuracy. This increases the cost in terms of time and resources.\n",
        "\n",
        "- Uncertainty Sampling and QBC are much cost-effective since they focus on the most informative data. This leads to faster improvement in accuracy."
      ],
      "metadata": {
        "id": "DyjWUAHITBye"
      }
    },
    {
      "cell_type": "markdown",
      "source": [
        "Findings"
      ],
      "metadata": {
        "id": "fFX2iX7zU233"
      }
    },
    {
      "cell_type": "markdown",
      "source": [
        "- QBC is the most cost-effective model with higher accuracy over 20 iteration. The reasons owing to its good performance have already been discussed in the previous sections.\n",
        "\n",
        "- Uncertainty Sampling shows a performance intermediate between QBC and Random Sampling. It performs better than Random Sampling but less than QBC.\n",
        "\n",
        "- Random Sampling Method showed almost neglible improvement in accuracy over the iterations. Primary reasons being : it doesn't have any specific criteria for choosing samples in active learning. Detailed discussion is covered in the previous sections."
      ],
      "metadata": {
        "id": "hr7Wm6qGU4b7"
      }
    },
    {
      "cell_type": "markdown",
      "source": [
        "Limitations"
      ],
      "metadata": {
        "id": "rG468fAgV0FS"
      }
    },
    {
      "cell_type": "markdown",
      "source": [
        "- Random Sampling Model is simple to implement but slightly inefficient since would potentially require more labeled data to attain high accuracy.\n",
        "\n",
        "- Uncertainty Sampling can be computationally expensive and might sometimes lead to overfitting, since it focuses on the most uncertain samples. It also relies on a single model, thus it might miss out on nuances areas.\n",
        "\n",
        "- QBC relies on multiple models which can be computationally expensive."
      ],
      "metadata": {
        "id": "J5tpKf9oV2gE"
      }
    },
    {
      "cell_type": "code",
      "source": [],
      "metadata": {
        "id": "qLLFkaD2XInF"
      },
      "execution_count": null,
      "outputs": []
    }
  ]
}